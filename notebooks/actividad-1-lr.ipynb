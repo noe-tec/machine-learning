{
 "cells": [
  {
   "cell_type": "markdown",
   "id": "e46d0e94",
   "metadata": {},
   "source": [
    "# Visualización de ajuste de modelo lineal a un conjunto de datos de precios de casas."
   ]
  },
  {
   "cell_type": "markdown",
   "id": "462820bd",
   "metadata": {},
   "source": [
    "Primeramente vamos a leer los datos y crear un gráfico de dispersión para observarlos"
   ]
  },
  {
   "cell_type": "code",
   "execution_count": null,
   "id": "8ee68a68",
   "metadata": {},
   "outputs": [],
   "source": [
    "import requests\n",
    "import numpy as np\n",
    "import matplotlib.pyplot as plt\n",
    "\n",
    "url = 'https://raw.githubusercontent.com/noe-tec/machine-learning/main/datasets/ejemplo_data_precio_casas.csv'\n",
    "response = requests.get(url)\n",
    "\n",
    "if response.status_code == 200:\n",
    "    lines = response.text.strip().splitlines()\n",
    "    data = [list(map(float, line.split(','))) for line in lines]\n",
    "    for row in data[:5]:  # mostramos 5 primeras lineas\n",
    "        print(row)\n",
    "    data = np.array(data)\n",
    "    print(data.shape)\n",
    "else:\n",
    "    print(f'Error al descargar el archivo: {response.status_code}')\n",
    "\n",
    "x_train = data[:,  0] \n",
    "y_train = data[:, -1] / 1e6\n",
    "\n",
    "plt.scatter(x_train, y_train)\n",
    "plt.xlabel(\"Tamaño [m^2]\")\n",
    "plt.ylabel(\"Precio [millones de pesos]\")\n",
    "plt.ylim((0,9))\n",
    "plt.grid()\n"
   ]
  },
  {
   "cell_type": "markdown",
   "id": "626adec4",
   "metadata": {},
   "source": [
    "Ahora vamos a crear un gráfico interactivo que nos permita seleccionar valores de los parámetros \"w\" y \"b\" y ver la línea resultante. El gráfico también nos muestra un gráfico de contornos de la función costo J(w,b) y el valor actual del costo dados los parámetros."
   ]
  },
  {
   "cell_type": "code",
   "execution_count": null,
   "id": "de686372",
   "metadata": {},
   "outputs": [],
   "source": [
    "from ipywidgets import interact, FloatSlider\n",
    "\n",
    "\n",
    "# --- Funciones auxiliares ---\n",
    "def predict(x, w, b):\n",
    "    return w * x + b\n",
    "\n",
    "def compute_cost(x, y, w, b):\n",
    "    preds = predict(x, w, b)\n",
    "    return np.mean((preds - y)**2)\n",
    "\n",
    "# --- Creamos una rejilla con combinaciones de w y b y calculamos costo ---\n",
    "w_range = np.linspace(-0.1, 0.1, 100)\n",
    "b_range = np.linspace(-5, 5, 100)\n",
    "W, B = np.meshgrid(w_range, b_range)\n",
    "Z = np.zeros_like(W)\n",
    "\n",
    "for i in range(W.shape[0]):\n",
    "    for j in range(W.shape[1]):\n",
    "        Z[i, j] = compute_cost(x_train, y_train, W[i, j], B[i, j])\n",
    "\n",
    "# --- Visualización interactiva completa ---\n",
    "def plot_interactive(w=50000, b=500000):\n",
    "    fig, axs = plt.subplots(1, 2, figsize=(16, 6))\n",
    "\n",
    "    # Subplot izquierdo: regresión\n",
    "    axs[0].scatter(x_train, y_train, label='Datos reales')\n",
    "    x_line = np.linspace(x_train.min(), x_train.max(), 10)\n",
    "    y_line = predict(x_line, w, b)\n",
    "    axs[0].plot(x_line, y_line, color='red', label=f'y = {w:.3f}x + {b:.3f}')\n",
    "    axs[0].set_title(f'Regresión lineal\\nCosto (MSE): {compute_cost(x_train, y_train, w, b):,.0f}')\n",
    "    axs[0].set_xlabel(\"Tamaño [m²]\")\n",
    "    axs[0].set_ylabel(\"Precio [mxn]\")\n",
    "    axs[0].set_ylim((-10, 10))\n",
    "    axs[0].set_xlim(( 0, x_train.max()))\n",
    "    axs[0].grid(True)\n",
    "    axs[0].legend()\n",
    "\n",
    "    # Subplot derecho: contornos de la función de costo\n",
    "    levels = np.logspace(0, 2.5, 10)  # Usamos niveles logarítmicos para mejor visualización\n",
    "    CS = axs[1].contour(W, B, Z, levels=levels, cmap='viridis')\n",
    "    #CS = axs[1].contour(W, B, Z, levels=50, cmap='viridis')\n",
    "    axs[1].set_title(\"Contornos de la función de costo\")\n",
    "    axs[1].set_xlabel(\"w (pendiente)\")\n",
    "    axs[1].set_ylabel(\"b (intersección)\")\n",
    "    axs[1].plot(w, b, 'ro', label='Posición actual')\n",
    "    axs[1].legend()\n",
    "    axs[1].grid(True)\n",
    "\n",
    "    plt.tight_layout()\n",
    "    plt.show()\n",
    "\n",
    "# --- Sliders interactivas ---\n",
    "interact(plot_interactive,\n",
    "         w=FloatSlider(min=-0.1, max=0.1, step=0.001, value=0, description='w (pendiente)'),\n",
    "         b=FloatSlider(min=-3, max=3, step=0.01, value=0, description='b (intercepto)'))"
   ]
  },
  {
   "cell_type": "markdown",
   "id": "fc441786",
   "metadata": {},
   "source": [
    "Actividad: Modifica los valores de \"w\" y \"b\" usando los sliders. Observa como la linea resutante varía y el costo cambia. ¿Que valores de w y b producen un buen ajuste?"
   ]
  }
 ],
 "metadata": {
  "kernelspec": {
   "display_name": "ds",
   "language": "python",
   "name": "python3"
  },
  "language_info": {
   "codemirror_mode": {
    "name": "ipython",
    "version": 3
   },
   "file_extension": ".py",
   "mimetype": "text/x-python",
   "name": "python",
   "nbconvert_exporter": "python",
   "pygments_lexer": "ipython3",
   "version": "3.10.18"
  }
 },
 "nbformat": 4,
 "nbformat_minor": 5
}
